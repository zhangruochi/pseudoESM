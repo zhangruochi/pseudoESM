{
 "cells": [
  {
   "cell_type": "code",
   "execution_count": 1,
   "metadata": {},
   "outputs": [],
   "source": [
    "import torch\n",
    "import sys\n",
    "import esm"
   ]
  },
  {
   "cell_type": "code",
   "execution_count": 2,
   "metadata": {},
   "outputs": [
    {
     "name": "stderr",
     "output_type": "stream",
     "text": [
      "/data/zhangruochi/projects/pseudoESM/esm/pretrained.py:174: UserWarning: Regression weights not found, predicting contacts will not produce correct results.\n",
      "  warnings.warn(\n"
     ]
    }
   ],
   "source": [
    "model_data  = torch.load('./pretrained_model/esm1_t6_43M_UR50S.pt', map_location=\"cpu\")\n",
    "model,alphabet = esm.pretrained.load_model_and_alphabet_core(model_data, None)\n",
    "batch_converter = alphabet.get_batch_converter()"
   ]
  },
  {
   "cell_type": "code",
   "execution_count": 4,
   "metadata": {},
   "outputs": [],
   "source": [
    "# for id,layer in enumerate(model.layers):\n",
    "#     print('{},***{}'.format(id,layer))"
   ]
  },
  {
   "cell_type": "code",
   "execution_count": 6,
   "metadata": {},
   "outputs": [],
   "source": [
    "model.eval()  # disables dropout for deterministic results\n",
    "\n",
    "# Prepare data (first 2 sequences from ESMStructuralSplitDataset superfamily / 4)\n",
    "data = [\n",
    "    (\"protein1\", \"MKTVRQERLKSIVRILERSKEPVSGAQLAEELSVSRQVIVQDIAYLRSLGYNIVATPRGYVLAGG\"),\n",
    "    (\"protein2\", \"KALTARQQEVFDLIRDHISQTGMPPTRAEIAQRLGFRSPNAAEEHLKALARKGVIEIVSGASRGIRLLQEE\"),\n",
    "    (\"protein2 with mask\",\"KALTARQQEVFDLIRD<mask>ISQTGMPPTRAEIAQRLGFRSPNAAEEHLKALARKGVIEIVSGASRGIRLLQEE\"),\n",
    "    (\"protein3\",  \"K A <mask> I S Q\"),\n",
    "]\n",
    "\n",
    "batch_labels, batch_strs, batch_tokens = batch_converter(data)\n",
    "\n",
    "# Extract per-residue representations (on CPU)\n",
    "with torch.no_grad():\n",
    "    results = model(batch_tokens, repr_layers=[6], return_contacts=True)"
   ]
  },
  {
   "cell_type": "code",
   "execution_count": 20,
   "metadata": {},
   "outputs": [
    {
     "data": {
      "text/plain": [
       "dict_keys(['logits', 'representations', 'attentions', 'contacts'])"
      ]
     },
     "execution_count": 20,
     "metadata": {},
     "output_type": "execute_result"
    }
   ],
   "source": [
    "results.keys()"
   ]
  },
  {
   "cell_type": "code",
   "execution_count": 22,
   "metadata": {},
   "outputs": [
    {
     "data": {
      "text/plain": [
       "(torch.Size([4, 71, 71]),\n",
       " torch.Size([4, 72, 768]),\n",
       " torch.Size([4, 72, 35]),\n",
       " torch.Size([4, 6, 12, 72, 72]))"
      ]
     },
     "execution_count": 22,
     "metadata": {},
     "output_type": "execute_result"
    }
   ],
   "source": [
    "results[\"contacts\"].shape, results[\"representations\"][6].shape, results[\n",
    "    \"logits\"].shape, results[\"attentions\"].shape\n"
   ]
  },
  {
   "cell_type": "code",
   "execution_count": 4,
   "metadata": {},
   "outputs": [],
   "source": [
    "lens = []\n",
    "with open(\"/data/zhangruochi/projects/pseudoESM/data/train/2million.fasta\") as f:\n",
    "    for i, line in enumerate(f):\n",
    "        if i % 2 != 0:\n",
    "            lens.append(len(line)) "
   ]
  },
  {
   "cell_type": "code",
   "execution_count": 5,
   "metadata": {},
   "outputs": [],
   "source": [
    "from matplotlib import pyplot as plt"
   ]
  },
  {
   "cell_type": "code",
   "execution_count": 7,
   "metadata": {},
   "outputs": [
    {
     "data": {
      "text/plain": [
       "(array([3.74039e+05, 5.79481e+05, 2.50362e+05, 1.60281e+05, 1.27154e+05,\n",
       "        8.98170e+04, 7.17820e+04, 5.24230e+04, 4.42960e+04, 3.47120e+04,\n",
       "        3.08210e+04, 2.41840e+04, 2.22380e+04, 1.79080e+04, 1.60930e+04,\n",
       "        1.26140e+04, 1.18700e+04, 9.81000e+03, 8.92100e+03, 7.32900e+03,\n",
       "        6.57200e+03, 5.35400e+03, 4.80200e+03, 3.89100e+03, 3.25300e+03,\n",
       "        3.09000e+03, 2.60500e+03, 2.35800e+03, 1.99000e+03, 1.85800e+03,\n",
       "        1.52700e+03, 1.48600e+03, 1.28600e+03, 1.14100e+03, 1.04900e+03,\n",
       "        9.62000e+02, 8.57000e+02, 8.41000e+02, 6.79000e+02, 6.57000e+02,\n",
       "        5.90000e+02, 5.70000e+02, 5.06000e+02, 4.46000e+02, 4.04000e+02,\n",
       "        3.81000e+02, 3.19000e+02, 3.11000e+02, 2.80000e+02, 3.01000e+02,\n",
       "        2.72000e+02, 2.38000e+02, 2.22000e+02, 2.04000e+02, 1.87000e+02,\n",
       "        1.84000e+02, 1.82000e+02, 1.35000e+02, 1.15000e+02, 1.08000e+02,\n",
       "        1.13000e+02, 9.80000e+01, 7.20000e+01, 8.50000e+01, 9.90000e+01,\n",
       "        7.40000e+01, 8.10000e+01, 7.20000e+01, 8.40000e+01, 5.40000e+01,\n",
       "        5.30000e+01, 5.70000e+01, 6.00000e+01, 4.80000e+01, 3.60000e+01,\n",
       "        2.90000e+01, 3.70000e+01, 3.50000e+01, 3.50000e+01, 2.80000e+01,\n",
       "        2.40000e+01, 2.40000e+01, 2.40000e+01, 2.60000e+01, 2.60000e+01,\n",
       "        3.40000e+01, 2.00000e+01, 1.80000e+01, 2.20000e+01, 1.40000e+01,\n",
       "        2.30000e+01, 1.30000e+01, 1.80000e+01, 2.10000e+01, 2.10000e+01,\n",
       "        2.10000e+01, 1.10000e+01, 1.40000e+01, 1.10000e+01, 1.70000e+01]),\n",
       " array([  51.  ,   70.48,   89.96,  109.44,  128.92,  148.4 ,  167.88,\n",
       "         187.36,  206.84,  226.32,  245.8 ,  265.28,  284.76,  304.24,\n",
       "         323.72,  343.2 ,  362.68,  382.16,  401.64,  421.12,  440.6 ,\n",
       "         460.08,  479.56,  499.04,  518.52,  538.  ,  557.48,  576.96,\n",
       "         596.44,  615.92,  635.4 ,  654.88,  674.36,  693.84,  713.32,\n",
       "         732.8 ,  752.28,  771.76,  791.24,  810.72,  830.2 ,  849.68,\n",
       "         869.16,  888.64,  908.12,  927.6 ,  947.08,  966.56,  986.04,\n",
       "        1005.52, 1025.  , 1044.48, 1063.96, 1083.44, 1102.92, 1122.4 ,\n",
       "        1141.88, 1161.36, 1180.84, 1200.32, 1219.8 , 1239.28, 1258.76,\n",
       "        1278.24, 1297.72, 1317.2 , 1336.68, 1356.16, 1375.64, 1395.12,\n",
       "        1414.6 , 1434.08, 1453.56, 1473.04, 1492.52, 1512.  , 1531.48,\n",
       "        1550.96, 1570.44, 1589.92, 1609.4 , 1628.88, 1648.36, 1667.84,\n",
       "        1687.32, 1706.8 , 1726.28, 1745.76, 1765.24, 1784.72, 1804.2 ,\n",
       "        1823.68, 1843.16, 1862.64, 1882.12, 1901.6 , 1921.08, 1940.56,\n",
       "        1960.04, 1979.52, 1999.  ]),\n",
       " <BarContainer object of 100 artists>)"
      ]
     },
     "execution_count": 7,
     "metadata": {},
     "output_type": "execute_result"
    },
    {
     "data": {
      "image/png": "[encoded data removed]",
      "text/plain": [
       "<Figure size 432x288 with 1 Axes>"
      ]
     },
     "metadata": {
      "needs_background": "light"
     },
     "output_type": "display_data"
    }
   ],
   "source": [
    "plt.hist(lens,bins = 100)"
   ]
  },
  {
   "cell_type": "code",
   "execution_count": null,
   "metadata": {},
   "outputs": [],
   "source": []
  }
 ],
 "metadata": {
  "kernelspec": {
   "display_name": "Python 3.8.12 ('tryit')",
   "language": "python",
   "name": "python3"
  },
  "language_info": {
   "codemirror_mode": {
    "name": "ipython",
    "version": 3
   },
   "file_extension": ".py",
   "mimetype": "text/x-python",
   "name": "python",
   "nbconvert_exporter": "python",
   "pygments_lexer": "ipython3",
   "version": "3.8.12"
  },
  "orig_nbformat": 4,
  "vscode": {
   "interpreter": {
    "hash": "b011162880df4fd515454003ac4435ef93c523a0dac8a2fec8244e808d7ced83"
   }
  }
 },
 "nbformat": 4,
 "nbformat_minor": 2
}
